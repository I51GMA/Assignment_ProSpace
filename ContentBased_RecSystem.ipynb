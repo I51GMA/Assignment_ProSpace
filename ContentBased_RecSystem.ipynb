{
  "nbformat": 4,
  "nbformat_minor": 0,
  "metadata": {
    "colab": {
      "provenance": []
    },
    "kernelspec": {
      "name": "python3",
      "display_name": "Python 3"
    },
    "language_info": {
      "name": "python"
    }
  },
  "cells": [
    {
      "cell_type": "code",
      "source": [
        "import dask.dataframe as dd\n",
        "\n",
        "# Define the paths to the datasets\n",
        "movies_path = '/content/movies.csv'\n",
        "tags_path = '/content/tags.csv'\n",
        "genome_scores_path = '/content/genome-scores.csv'\n",
        "genome_tags_path = '/content/genome-tags.csv'\n",
        "\n",
        "# Load the datasets using Dask\n",
        "movies_df = dd.read_csv(movies_path)\n",
        "tags_df = dd.read_csv(tags_path)\n",
        "genome_scores_df = dd.read_csv(genome_scores_path)\n",
        "genome_tags_df = dd.read_csv(genome_tags_path)"
      ],
      "metadata": {
        "id": "GWWCzX4Flt-J"
      },
      "execution_count": 2,
      "outputs": []
    },
    {
      "cell_type": "code",
      "source": [
        "# Display the first few rows and the column information for each dataset\n",
        "print(\"Movies Dataset:\")\n",
        "print(movies_df.head())\n",
        "print(movies_df.dtypes)"
      ],
      "metadata": {
        "colab": {
          "base_uri": "https://localhost:8080/"
        },
        "id": "JJuAMtf6nSk3",
        "outputId": "896f9783-2639-456d-bc9c-fa1a899f72b7"
      },
      "execution_count": 3,
      "outputs": [
        {
          "output_type": "stream",
          "name": "stdout",
          "text": [
            "Movies Dataset:\n",
            "   movieId                               title  \\\n",
            "0        1                    Toy Story (1995)   \n",
            "1        2                      Jumanji (1995)   \n",
            "2        3             Grumpier Old Men (1995)   \n",
            "3        4            Waiting to Exhale (1995)   \n",
            "4        5  Father of the Bride Part II (1995)   \n",
            "\n",
            "                                        genres  \n",
            "0  Adventure|Animation|Children|Comedy|Fantasy  \n",
            "1                   Adventure|Children|Fantasy  \n",
            "2                               Comedy|Romance  \n",
            "3                         Comedy|Drama|Romance  \n",
            "4                                       Comedy  \n",
            "movieId              int64\n",
            "title      string[pyarrow]\n",
            "genres     string[pyarrow]\n",
            "dtype: object\n"
          ]
        }
      ]
    },
    {
      "cell_type": "code",
      "source": [
        "print(\"Tags Dataset:\")\n",
        "print(tags_df.head())\n",
        "print(tags_df.dtypes)"
      ],
      "metadata": {
        "colab": {
          "base_uri": "https://localhost:8080/"
        },
        "id": "3XPIC-rrm8vF",
        "outputId": "b631ee8a-7c14-49fd-e2da-42148ca8aebd"
      },
      "execution_count": 4,
      "outputs": [
        {
          "output_type": "stream",
          "name": "stdout",
          "text": [
            "Tags Dataset:\n",
            "   userId  movieId               tag   timestamp\n",
            "0       3      260           classic  1439472355\n",
            "1       3      260            sci-fi  1439472256\n",
            "2       4     1732       dark comedy  1573943598\n",
            "3       4     1732    great dialogue  1573943604\n",
            "4       4     7569  so bad it's good  1573943455\n",
            "userId                 int64\n",
            "movieId                int64\n",
            "tag          string[pyarrow]\n",
            "timestamp              int64\n",
            "dtype: object\n"
          ]
        }
      ]
    },
    {
      "cell_type": "code",
      "source": [
        "print(\"Genome Scores Dataset:\")\n",
        "print(genome_scores_df.head())\n",
        "print(genome_scores_df.dtypes)"
      ],
      "metadata": {
        "colab": {
          "base_uri": "https://localhost:8080/"
        },
        "id": "Yse9ebwom-vd",
        "outputId": "fedb21f4-a097-478d-8750-dc19c4fe6630"
      },
      "execution_count": 5,
      "outputs": [
        {
          "output_type": "stream",
          "name": "stdout",
          "text": [
            "Genome Scores Dataset:\n",
            "   movieId  tagId  relevance\n",
            "0        1      1    0.02875\n",
            "1        1      2    0.02375\n",
            "2        1      3    0.06250\n",
            "3        1      4    0.07575\n",
            "4        1      5    0.14075\n",
            "movieId        int64\n",
            "tagId          int64\n",
            "relevance    float64\n",
            "dtype: object\n"
          ]
        }
      ]
    },
    {
      "cell_type": "code",
      "source": [
        "print(\"Genome Tags Dataset:\")\n",
        "print(genome_tags_df.head())\n",
        "print(genome_tags_df.dtypes)"
      ],
      "metadata": {
        "colab": {
          "base_uri": "https://localhost:8080/"
        },
        "id": "RdphFIn2nAQc",
        "outputId": "a2a13730-5c7c-404b-aafb-d48a58b37e26"
      },
      "execution_count": 6,
      "outputs": [
        {
          "output_type": "stream",
          "name": "stdout",
          "text": [
            "Genome Tags Dataset:\n",
            "   tagId           tag\n",
            "0      1           007\n",
            "1      2  007 (series)\n",
            "2      3  18th century\n",
            "3      4         1920s\n",
            "4      5         1930s\n",
            "tagId              int64\n",
            "tag      string[pyarrow]\n",
            "dtype: object\n"
          ]
        }
      ]
    },
    {
      "cell_type": "code",
      "source": [
        "# Merge the movies and tags DataFrames on the 'movieId' column\n",
        "combined_df = movies_df.merge(tags_df, on='movieId', how='inner')\n",
        "\n",
        "# Display the first few rows of the merged DataFrame to verify the merge\n",
        "print(combined_df.head())\n",
        "\n",
        "# Examine the structure and data types to ensure the merge went as expected\n",
        "print(combined_df.dtypes)"
      ],
      "metadata": {
        "colab": {
          "base_uri": "https://localhost:8080/"
        },
        "id": "LBQen4m1nkVn",
        "outputId": "abd4a84a-69c3-465c-84ca-da7e4c70af65"
      },
      "execution_count": 7,
      "outputs": [
        {
          "output_type": "stream",
          "name": "stdout",
          "text": [
            "   movieId             title                                       genres  \\\n",
            "0        1  Toy Story (1995)  Adventure|Animation|Children|Comedy|Fantasy   \n",
            "1        1  Toy Story (1995)  Adventure|Animation|Children|Comedy|Fantasy   \n",
            "2        1  Toy Story (1995)  Adventure|Animation|Children|Comedy|Fantasy   \n",
            "3        1  Toy Story (1995)  Adventure|Animation|Children|Comedy|Fantasy   \n",
            "4        1  Toy Story (1995)  Adventure|Animation|Children|Comedy|Fantasy   \n",
            "\n",
            "   userId           tag   timestamp  \n",
            "0     791         Owned  1515175493  \n",
            "1    1048  imdb top 250  1172144394  \n",
            "2    1361         Pixar  1216146311  \n",
            "3    3164         Pixar  1223304727  \n",
            "4    3164   time travel  1223304729  \n",
            "movieId                int64\n",
            "title        string[pyarrow]\n",
            "genres       string[pyarrow]\n",
            "userId                 int64\n",
            "tag          string[pyarrow]\n",
            "timestamp              int64\n",
            "dtype: object\n"
          ]
        }
      ]
    },
    {
      "cell_type": "code",
      "source": [
        "# Dropping the 'timestamp' column from the combined DataFrame\n",
        "combined_df = combined_df.drop('timestamp', axis=1)\n",
        "\n",
        "# Combine genome_scores with genome_tags on 'tagId'\n",
        "genome_combined_df = genome_scores_df.merge(genome_tags_df, on='tagId', how='inner')\n",
        "\n",
        "# Now, merge this combined genome data with the previous combined dataset on 'movieId'\n",
        "final_combined_df = combined_df.merge(genome_combined_df, on='movieId', how='inner')\n",
        "\n",
        "# Display the first few rows to check the final combined DataFrame\n",
        "print(final_combined_df.head())"
      ],
      "metadata": {
        "colab": {
          "base_uri": "https://localhost:8080/"
        },
        "id": "s7jCCBZGoXd0",
        "outputId": "bfdd412f-1794-4ee8-c273-6bfb64b93324"
      },
      "execution_count": 8,
      "outputs": [
        {
          "output_type": "stream",
          "name": "stdout",
          "text": [
            "   movieId             title                                       genres  \\\n",
            "0        1  Toy Story (1995)  Adventure|Animation|Children|Comedy|Fantasy   \n",
            "1        1  Toy Story (1995)  Adventure|Animation|Children|Comedy|Fantasy   \n",
            "2        1  Toy Story (1995)  Adventure|Animation|Children|Comedy|Fantasy   \n",
            "3        1  Toy Story (1995)  Adventure|Animation|Children|Comedy|Fantasy   \n",
            "4        1  Toy Story (1995)  Adventure|Animation|Children|Comedy|Fantasy   \n",
            "\n",
            "   userId  tag_x  tagId  relevance         tag_y  \n",
            "0     791  Owned      1    0.02875           007  \n",
            "1     791  Owned      2    0.02375  007 (series)  \n",
            "2     791  Owned      3    0.06250  18th century  \n",
            "3     791  Owned      4    0.07575         1920s  \n",
            "4     791  Owned      5    0.14075         1930s  \n"
          ]
        }
      ]
    },
    {
      "cell_type": "code",
      "source": [
        "# Checking the structure and data types of the final DataFrame\n",
        "print(final_combined_df.dtypes)"
      ],
      "metadata": {
        "colab": {
          "base_uri": "https://localhost:8080/"
        },
        "id": "PCjq4Ms0tdZX",
        "outputId": "47cbf5ba-fc85-440f-b202-205f9861a12a"
      },
      "execution_count": 9,
      "outputs": [
        {
          "output_type": "stream",
          "name": "stdout",
          "text": [
            "movieId                int64\n",
            "title        string[pyarrow]\n",
            "genres       string[pyarrow]\n",
            "userId                 int64\n",
            "tag_x        string[pyarrow]\n",
            "tagId                  int64\n",
            "relevance            float64\n",
            "tag_y        string[pyarrow]\n",
            "dtype: object\n"
          ]
        }
      ]
    },
    {
      "cell_type": "code",
      "source": [
        "from sklearn.feature_extraction.text import TfidfVectorizer\n",
        "\n",
        "# Scale relevance values to emphasize their effect, e.g., scale by 100 or 1000 depending on the range of relevance\n",
        "scale_factor = 100\n",
        "final_combined_df['tags_processed'] = final_combined_df.apply(\n",
        "    lambda x: (x['tag_y'] + ' ') * int(x['relevance'] * scale_factor), axis=1\n",
        ")\n",
        "\n",
        "# Combine 'genres' and 'tags_processed' into a single column for TF-IDF processing\n",
        "final_combined_df['text_data'] = final_combined_df['genres'] + ' ' + final_combined_df['tags_processed']\n",
        "\n",
        "# Initialize the TfidfVectorizer with parameters that suit your text data, such as lowercasing and removal of stop words\n",
        "tfidf = TfidfVectorizer(stop_words='english')\n",
        "\n",
        "# Fit and transform the combined text data\n",
        "tfidf_matrix = tfidf.fit_transform(final_combined_df['text_data'])\n",
        "\n",
        "# Check the shape of the resulting TF-IDF matrix to confirm the inclusion and impact of scaled relevance values\n",
        "print(\"Shape of TF-IDF Matrix:\", tfidf_matrix.shape)"
      ],
      "metadata": {
        "colab": {
          "base_uri": "https://localhost:8080/"
        },
        "id": "JkvAIxYnteKn",
        "outputId": "0e54e449-fb5b-492a-c5a7-e61ff072219f"
      },
      "execution_count": 12,
      "outputs": [
        {
          "output_type": "stream",
          "name": "stdout",
          "text": [
            "Shape of TF-IDF Matrix: (1828684, 1128)\n"
          ]
        }
      ]
    },
    {
      "cell_type": "code",
      "source": [
        "# Fill NaN values with a blank space in the 'genres' and 'tags_processed' columns\n",
        "final_combined_df['genres'].fillna('', inplace=True)\n",
        "final_combined_df['tags_processed'].fillna('', inplace=True)\n",
        "\n",
        "# Reconstruct the 'text_data' column with filled values\n",
        "final_combined_df['text_data'] = final_combined_df['genres'] + ' ' + final_combined_df['tags_processed']\n",
        "\n",
        "# Continue with the TF-IDF vectorization (assuming the TfidfVectorizer instance 'tfidf' is already initialized)\n",
        "tfidf_matrix = tfidf.fit_transform(final_combined_df['text_data'])"
      ],
      "metadata": {
        "colab": {
          "base_uri": "https://localhost:8080/"
        },
        "id": "Em_bX1ZixqrY",
        "outputId": "fa1f6f8a-dea2-4fbd-ea04-5eb46d4d32f6"
      },
      "execution_count": 13,
      "outputs": [
        {
          "output_type": "stream",
          "name": "stdout",
          "text": [
            "Shape of TF-IDF Matrix: (1828684, 1128)\n"
          ]
        }
      ]
    },
    {
      "cell_type": "code",
      "source": [
        "from sklearn.metrics.pairwise import cosine_similarity\n",
        "\n",
        "# Choose a particular movie index for comparison, for example, index 0 (first movie in the DataFrame)\n",
        "selected_movie_index = 0\n",
        "selected_movie_vector = tfidf_matrix[selected_movie_index]\n",
        "\n",
        "# Compute cosine similarity between the selected movie vector and all movie vectors\n",
        "cosine_similarities = cosine_similarity(selected_movie_vector, tfidf_matrix)\n",
        "\n",
        "# Convert the cosine similarities to a DataFrame for better handling\n",
        "similarity_scores = pd.DataFrame(cosine_similarities.flatten(), index=final_combined_df['movieId'], columns=['similarity_score'])\n",
        "\n",
        "# Drop duplicates in the DataFrame\n",
        "similarity_scores = similarity_scores[~similarity_scores.index.duplicated(keep='first')]\n",
        "\n",
        "# Print the unique similarity scores for each movie\n",
        "print(similarity_scores.sort_values(by='similarity_score', ascending=False))"
      ],
      "metadata": {
        "colab": {
          "base_uri": "https://localhost:8080/"
        },
        "id": "VllTY1GoydK5",
        "outputId": "15245444-0dec-4209-f891-0ba0200f6c60"
      },
      "execution_count": 15,
      "outputs": [
        {
          "output_type": "stream",
          "name": "stdout",
          "text": [
            "         similarity_score\n",
            "movieId                  \n",
            "1                1.000000\n",
            "13               0.964698\n",
            "60               0.961626\n",
            "126              0.954981\n",
            "2                0.946177\n",
            "...                   ...\n",
            "32               0.826911\n",
            "22               0.824858\n",
            "131              0.824296\n",
            "123              0.777629\n",
            "136              0.715566\n",
            "\n",
            "[128 rows x 1 columns]\n"
          ]
        }
      ]
    },
    {
      "cell_type": "code",
      "source": [
        "def get_recommendations(title, df, tfidf_matrix, top_n=10):\n",
        "    # Get the index of the movie that matches the title\n",
        "    idx = df.index[df['title'] == title].tolist()[0]\n",
        "\n",
        "    # Compute the cosine similarity matrix (if not already computed)\n",
        "    cosine_sim = cosine_similarity(tfidf_matrix[idx], tfidf_matrix)\n",
        "\n",
        "    # Convert to a DataFrame for easier handling\n",
        "    sim_scores = pd.DataFrame(cosine_sim.flatten(), index=df['title'], columns=['similarity_score'])\n",
        "\n",
        "    # Remove duplicate titles if any\n",
        "    sim_scores = sim_scores[~sim_scores.index.duplicated(keep='first')]\n",
        "\n",
        "    # Sort the movies based on the similarity scores\n",
        "    sim_scores = sim_scores.sort_values('similarity_score', ascending=False)\n",
        "\n",
        "    # Get the scores of the 10 most similar movies\n",
        "    top_scores = sim_scores.iloc[1:top_n+1]  # Skip the first one as it will be the movie itself\n",
        "\n",
        "    return top_scores"
      ],
      "metadata": {
        "id": "A8HXPbyb1yHq"
      },
      "execution_count": 16,
      "outputs": []
    },
    {
      "cell_type": "code",
      "source": [
        "# Top 10 recommendations based on the given movie\n",
        "movie_title = \"Jumanji (1995)\"\n",
        "recommendations = get_recommendations(movie_title, final_combined_df, tfidf_matrix)\n",
        "print(recommendations)"
      ],
      "metadata": {
        "colab": {
          "base_uri": "https://localhost:8080/"
        },
        "id": "foHHdmMw3VvA",
        "outputId": "48054129-129c-413c-bc86-2f5f9955d9cd"
      },
      "execution_count": 17,
      "outputs": [
        {
          "output_type": "stream",
          "name": "stdout",
          "text": [
            "                                     similarity_score\n",
            "title                                                \n",
            "NeverEnding Story III, The (1994)            0.998087\n",
            "Amazing Panda Adventure, The (1995)          0.992320\n",
            "Mortal Kombat (1995)                         0.990213\n",
            "Dunston Checks In (1996)                     0.985451\n",
            "Now and Then (1995)                          0.984720\n",
            "Indian in the Cupboard, The (1995)           0.983935\n",
            "Broken Arrow (1996)                          0.982963\n",
            "Big Green, The (1995)                        0.982629\n",
            "It Takes Two (1995)                          0.982629\n",
            "GoldenEye (1995)                             0.981778\n"
          ]
        }
      ]
    }
  ]
}